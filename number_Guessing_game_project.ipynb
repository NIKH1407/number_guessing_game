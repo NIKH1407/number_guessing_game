{
 "cells": [
  {
   "cell_type": "markdown",
   "id": "7bb4123e",
   "metadata": {},
   "source": [
    "# Number Guessing Game"
   ]
  },
  {
   "cell_type": "code",
   "execution_count": null,
   "id": "64194997",
   "metadata": {},
   "outputs": [],
   "source": [
    "#In this project, you'll create a number \n",
    "#guessing game where the computer generates \n",
    "#a random number, and the player has to guess it"
   ]
  },
  {
   "cell_type": "code",
   "execution_count": 2,
   "id": "0c11f57e",
   "metadata": {},
   "outputs": [],
   "source": [
    "import random #Import the random module to generate random numbers."
   ]
  },
  {
   "cell_type": "code",
   "execution_count": 3,
   "id": "514790c3",
   "metadata": {},
   "outputs": [
    {
     "data": {
      "text/plain": [
       "17"
      ]
     },
     "execution_count": 3,
     "metadata": {},
     "output_type": "execute_result"
    }
   ],
   "source": [
    "random.randint(1,100) #this is use to generate \n",
    "                      #random number in range of 1 to 100"
   ]
  },
  {
   "cell_type": "code",
   "execution_count": 4,
   "id": "471bcc58",
   "metadata": {},
   "outputs": [],
   "source": [
    "random_num = random.randint(1,100) #assigning random number \n",
    "                                   #with a variable name random_num"
   ]
  },
  {
   "cell_type": "code",
   "execution_count": 5,
   "id": "0e50072e",
   "metadata": {},
   "outputs": [
    {
     "name": "stdout",
     "output_type": "stream",
     "text": [
      "please guess a number between 1 to 100:  78\n"
     ]
    }
   ],
   "source": [
    "guess = int(input(\"please guess a number between 1 to 100:  \"))"
   ]
  },
  {
   "cell_type": "code",
   "execution_count": 6,
   "id": "26257eeb",
   "metadata": {},
   "outputs": [
    {
     "name": "stdout",
     "output_type": "stream",
     "text": [
      "number is high,please try again\n"
     ]
    }
   ],
   "source": [
    "maximum_attempts = 5\n",
    "\n",
    "for attempt in range(maximum_attempts):\n",
    "    if guess <= random_num:\n",
    "        print(\"number is loo,please try again\")\n",
    "        \n",
    "    elif guess >= random_num:\n",
    "        print(\"number is high,please try again\")\n",
    "        \n",
    "    else:\n",
    "        print(f\"congratulation!!! you guess the right number {random_num}\")\n",
    "    break\n",
    "else:\n",
    "    print(f\"sorry you reached the maximum attempt. The number was {random_num}\")"
   ]
  },
  {
   "cell_type": "code",
   "execution_count": null,
   "id": "af128448",
   "metadata": {},
   "outputs": [],
   "source": []
  }
 ],
 "metadata": {
  "kernelspec": {
   "display_name": "Python 3 (ipykernel)",
   "language": "python",
   "name": "python3"
  },
  "language_info": {
   "codemirror_mode": {
    "name": "ipython",
    "version": 3
   },
   "file_extension": ".py",
   "mimetype": "text/x-python",
   "name": "python",
   "nbconvert_exporter": "python",
   "pygments_lexer": "ipython3",
   "version": "3.11.3"
  }
 },
 "nbformat": 4,
 "nbformat_minor": 5
}
